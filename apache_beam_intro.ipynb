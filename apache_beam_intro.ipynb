{
  "nbformat": 4,
  "nbformat_minor": 0,
  "metadata": {
    "colab": {
      "name": "apache_beam_intro.ipynb",
      "provenance": [],
      "mount_file_id": "1OElQDr4Gs8gkNNTwZvgy5M2XTaj-a_RF",
      "authorship_tag": "ABX9TyN/4XQjrtW2fH+D1XeWZQnj",
      "include_colab_link": true
    },
    "kernelspec": {
      "name": "python3",
      "display_name": "Python 3"
    },
    "accelerator": "GPU"
  },
  "cells": [
    {
      "cell_type": "markdown",
      "metadata": {
        "id": "view-in-github",
        "colab_type": "text"
      },
      "source": [
        "<a href=\"https://colab.research.google.com/github/pradosh2008/pradosh/blob/main/apache_beam_intro.ipynb\" target=\"_parent\"><img src=\"https://colab.research.google.com/assets/colab-badge.svg\" alt=\"Open In Colab\"/></a>"
      ]
    },
    {
      "cell_type": "code",
      "metadata": {
        "colab": {
          "base_uri": "https://localhost:8080/"
        },
        "id": "s2aiygNk0zJl",
        "outputId": "caecfe52-fafc-4e1a-c5b1-765e4d5db4a5"
      },
      "source": [
        "print(\"hello\")"
      ],
      "execution_count": null,
      "outputs": [
        {
          "output_type": "stream",
          "text": [
            "hello\n"
          ],
          "name": "stdout"
        }
      ]
    },
    {
      "cell_type": "code",
      "metadata": {
        "colab": {
          "base_uri": "https://localhost:8080/"
        },
        "id": "fOvEsVI36tk4",
        "outputId": "7ea0c196-4354-49ed-82d0-45435b875722"
      },
      "source": [
        "!{'pip install --quiet apache_beam'}"
      ],
      "execution_count": 1,
      "outputs": [
        {
          "output_type": "stream",
          "text": [
            "\u001b[K     |████████████████████████████████| 9.0MB 13.2MB/s \n",
            "\u001b[K     |████████████████████████████████| 153kB 62.5MB/s \n",
            "\u001b[K     |████████████████████████████████| 17.7MB 212kB/s \n",
            "\u001b[K     |████████████████████████████████| 2.2MB 56.3MB/s \n",
            "\u001b[K     |████████████████████████████████| 829kB 52.4MB/s \n",
            "\u001b[K     |████████████████████████████████| 61kB 9.5MB/s \n",
            "\u001b[K     |████████████████████████████████| 61kB 9.4MB/s \n",
            "\u001b[K     |████████████████████████████████| 112kB 41.9MB/s \n",
            "\u001b[?25h  Building wheel for dill (setup.py) ... \u001b[?25l\u001b[?25hdone\n",
            "  Building wheel for avro-python3 (setup.py) ... \u001b[?25l\u001b[?25hdone\n",
            "  Building wheel for future (setup.py) ... \u001b[?25l\u001b[?25hdone\n",
            "\u001b[31mERROR: multiprocess 0.70.11.1 has requirement dill>=0.3.3, but you'll have dill 0.3.1.1 which is incompatible.\u001b[0m\n",
            "\u001b[31mERROR: google-colab 1.0.0 has requirement requests~=2.23.0, but you'll have requests 2.25.1 which is incompatible.\u001b[0m\n",
            "\u001b[31mERROR: datascience 0.10.6 has requirement folium==0.2.1, but you'll have folium 0.8.3 which is incompatible.\u001b[0m\n"
          ],
          "name": "stdout"
        }
      ]
    },
    {
      "cell_type": "code",
      "metadata": {
        "colab": {
          "base_uri": "https://localhost:8080/"
        },
        "id": "feJi89N47YBZ",
        "outputId": "2cf44362-6a0c-40ea-ac17-2f8b76009bcb"
      },
      "source": [
        "pip --version"
      ],
      "execution_count": 2,
      "outputs": [
        {
          "output_type": "stream",
          "text": [
            "pip 19.3.1 from /usr/local/lib/python3.6/dist-packages/pip (python 3.6)\n"
          ],
          "name": "stdout"
        }
      ]
    },
    {
      "cell_type": "code",
      "metadata": {
        "id": "76TnCDdW1ED2"
      },
      "source": [
        "import apache_beam as beam"
      ],
      "execution_count": 3,
      "outputs": []
    },
    {
      "cell_type": "code",
      "metadata": {
        "id": "Mz7kqcna4Rci"
      },
      "source": [
        "mkdir -p data"
      ],
      "execution_count": 4,
      "outputs": []
    },
    {
      "cell_type": "code",
      "metadata": {
        "colab": {
          "base_uri": "https://localhost:8080/"
        },
        "id": "bXKFvwqO4XON",
        "outputId": "fa02f48a-288e-4102-c504-79dd74fc134d"
      },
      "source": [
        "ls"
      ],
      "execution_count": 5,
      "outputs": [
        {
          "output_type": "stream",
          "text": [
            "\u001b[0m\u001b[01;34mdata\u001b[0m/  \u001b[01;34mdrive\u001b[0m/  \u001b[01;34msample_data\u001b[0m/\n"
          ],
          "name": "stdout"
        }
      ]
    },
    {
      "cell_type": "code",
      "metadata": {
        "id": "JinUVd1Y6KKz"
      },
      "source": [
        "# this won't work in firefox\r\n",
        "# from google.colab import files\r\n",
        "# uploaded=files.upload()"
      ],
      "execution_count": null,
      "outputs": []
    },
    {
      "cell_type": "code",
      "metadata": {
        "colab": {
          "base_uri": "https://localhost:8080/"
        },
        "id": "R_u7iemlAkjV",
        "outputId": "06e9711a-853e-4415-ac8e-65a66f6d3aca"
      },
      "source": [
        "%cd ./drive/MyDrive/data/"
      ],
      "execution_count": 6,
      "outputs": [
        {
          "output_type": "stream",
          "text": [
            "/content/drive/MyDrive/data\n"
          ],
          "name": "stdout"
        }
      ]
    },
    {
      "cell_type": "code",
      "metadata": {
        "id": "k6DOYBgNAp_i"
      },
      "source": [
        "cat dept_data.txt"
      ],
      "execution_count": null,
      "outputs": []
    },
    {
      "cell_type": "code",
      "metadata": {
        "colab": {
          "base_uri": "https://localhost:8080/"
        },
        "id": "p23aZV_wlH_V",
        "outputId": "3799cf79-4388-4cb4-e282-c1ce133c6497"
      },
      "source": [
        "p1=beam.Pipeline()\r\n",
        "\r\n",
        "lines=(\r\n",
        "    p1\r\n",
        "    |beam.Create([(\"ram\",1),(\"hari\",2)])\r\n",
        "    |beam.io.WriteToText('/content/drive/MyDrive/output/output')\r\n",
        ")\r\n",
        "\r\n",
        "p1.run()\r\n",
        "\r\n",
        "!{('head -n 20 ../output/output-00000-of-00001')}"
      ],
      "execution_count": 19,
      "outputs": [
        {
          "output_type": "stream",
          "text": [
            "('ram', 1)\n",
            "('hari', 2)\n"
          ],
          "name": "stdout"
        }
      ]
    },
    {
      "cell_type": "code",
      "metadata": {
        "colab": {
          "base_uri": "https://localhost:8080/"
        },
        "id": "asi00My1svIM",
        "outputId": "bf7a7ad8-5b08-4600-983f-1c902e5576d8"
      },
      "source": [
        "!pwd"
      ],
      "execution_count": 20,
      "outputs": [
        {
          "output_type": "stream",
          "text": [
            "/content/drive/My Drive/data\n"
          ],
          "name": "stdout"
        }
      ]
    },
    {
      "cell_type": "code",
      "metadata": {
        "id": "ROWcDAMWQznN"
      },
      "source": [
        "p4 = beam.Pipeline()\r\n",
        "\r\n",
        "\r\n",
        "lines = (p4\r\n",
        "           | beam.Create([(\"maths\",52),(\"english\",75),(\"science\",82), (\"computer\",65),(\"maths\",85)])\r\n",
        "         \r\n",
        "            | beam.io.WriteToText('../output/output1')\r\n",
        "          )\r\n",
        "p4.run()\r\n",
        "\r\n",
        "# visualize output\r\n",
        "!{('head -n 20 ../output/output1-00000-of-00001')}\r\n"
      ],
      "execution_count": null,
      "outputs": []
    },
    {
      "cell_type": "code",
      "metadata": {
        "colab": {
          "base_uri": "https://localhost:8080/"
        },
        "id": "o8jFvobjRgSY",
        "outputId": "c56f7693-c782-43cb-efb8-331ab8798dd7"
      },
      "source": [
        "dict_line = ( p4\r\n",
        "         \r\n",
        "       | beam.Create({'row1':[1,2,3,4,5],\r\n",
        "                     'row2':[1,2,3,4,5]})\r\n",
        "       | beam.Map(lambda element: element)\r\n",
        "       | beam.io.WriteToText('../output/output2')\r\n",
        "  )\r\n",
        "  \r\n",
        "p4.run()\r\n",
        "\r\n",
        "# visualize output\r\n",
        "!{('head -n 20 ../output/output2-00000-of-00001')}"
      ],
      "execution_count": 24,
      "outputs": [
        {
          "output_type": "stream",
          "text": [
            "WARNING:apache_beam.io.filebasedsink:Deleting 1 existing files in target path matching: -*-of-%(num_shards)05d\n",
            "WARNING:apache_beam.io.filebasedsink:Deleting 1 existing files in target path matching: -*-of-%(num_shards)05d\n",
            "WARNING:apache_beam.io.filebasedsink:Deleting 1 existing files in target path matching: -*-of-%(num_shards)05d\n"
          ],
          "name": "stderr"
        },
        {
          "output_type": "stream",
          "text": [
            "('row1', [1, 2, 3, 4, 5])\n",
            "('row2', [1, 2, 3, 4, 5])\n"
          ],
          "name": "stdout"
        }
      ]
    },
    {
      "cell_type": "code",
      "metadata": {
        "colab": {
          "base_uri": "https://localhost:8080/"
        },
        "id": "JZx7GBVzSe39",
        "outputId": "d8a0ad9b-1274-4558-ab28-6c14f28e1a61"
      },
      "source": [
        "p3 = beam.Pipeline()\r\n",
        "\r\n",
        "\r\n",
        "lines = (p3\r\n",
        "           | beam.Create([1,2,3,3,4,4,5])\r\n",
        "         \r\n",
        "            | beam.io.WriteToText('../output/output3')\r\n",
        "          )\r\n",
        "p3.run()\r\n",
        "\r\n",
        "# visualize output\r\n",
        "!{('head -n 20 ../output/output3-00000-of-00001')}"
      ],
      "execution_count": 26,
      "outputs": [
        {
          "output_type": "stream",
          "text": [
            "WARNING:apache_beam.io.filebasedsink:Deleting 1 existing files in target path matching: -*-of-%(num_shards)05d\n"
          ],
          "name": "stderr"
        },
        {
          "output_type": "stream",
          "text": [
            "1\n",
            "2\n",
            "3\n",
            "3\n",
            "4\n",
            "4\n",
            "5\n"
          ],
          "name": "stdout"
        }
      ]
    }
  ]
}