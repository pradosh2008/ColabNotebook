{
  "nbformat": 4,
  "nbformat_minor": 0,
  "metadata": {
    "colab": {
      "name": "how_to_document_and_use_colab.ipynb",
      "provenance": [],
      "authorship_tag": "ABX9TyP8M/rIihldDRdwlkVmWLu/",
      "include_colab_link": true
    },
    "kernelspec": {
      "name": "python3",
      "display_name": "Python 3"
    }
  },
  "cells": [
    {
      "cell_type": "markdown",
      "metadata": {
        "id": "view-in-github",
        "colab_type": "text"
      },
      "source": [
        "<a href=\"https://colab.research.google.com/github/pradosh2008/pradosh/blob/main/how_to_document_and_use_colab.ipynb\" target=\"_parent\"><img src=\"https://colab.research.google.com/assets/colab-badge.svg\" alt=\"Open In Colab\"/></a>"
      ]
    },
    {
      "cell_type": "markdown",
      "metadata": {
        "id": "uDRKjWp1cV0K"
      },
      "source": [
        "**A document on markup language to document your colab notebook and how to use colab using shortcut**"
      ]
    },
    {
      "cell_type": "markdown",
      "metadata": {
        "id": "56ePZYXriUzx"
      },
      "source": [
        "**To add a cell below  - use ctrl M B**\r\n",
        "<br></br>\r\n",
        "**To add a cell above  - use ctrl M A**\r\n",
        "<br></br>\r\n",
        "**To covert a cell from code to text - use ctrl M M**\r\n"
      ]
    },
    {
      "cell_type": "markdown",
      "metadata": {
        "id": "pzcbYVyEeWtG"
      },
      "source": [
        "**Markdown style**\r\n",
        "\r\n",
        "# This is a heading\r\n",
        "## This is a heading\r\n",
        "### This is a heading\r\n",
        "#### This is a heading"
      ]
    },
    {
      "cell_type": "markdown",
      "metadata": {
        "id": "8bF2WJmcfe1C"
      },
      "source": [
        "**HTML Side**\r\n",
        "\r\n",
        "<h1> This is a heading </h1>\r\n",
        "\r\n",
        "<h2> This is a heading </h2>\r\n"
      ]
    },
    {
      "cell_type": "markdown",
      "metadata": {
        "id": "EbXdFj3Of7l1"
      },
      "source": [
        "<b>Using HTML to bold and italic</b>\r\n",
        "\r\n",
        "<b> This is to make bold </b>\r\n",
        "\r\n",
        "<i> this is ittalic </i>\r\n",
        "\r\n",
        "This is *italic*\r\n"
      ]
    },
    {
      "cell_type": "markdown",
      "metadata": {
        "id": "02FBQ8m6gVW6"
      },
      "source": [
        "~This is strikethrough~\r\n",
        "<br>\r\n",
        "<s> this is strikethrough using html</s>\r\n",
        "<br>\r\n",
        "This is a ~strikethrough~"
      ]
    },
    {
      "cell_type": "markdown",
      "metadata": {
        "id": "QpgdkLcOguua"
      },
      "source": [
        "<ol>\r\n",
        "<li>eat</li>\r\n",
        "<li>code</li>\r\n",
        "<li>sleep</li>\r\n",
        "</ol>\r\n",
        "\r\n",
        "<ol type=\"1\">\r\n",
        "<li>eat</li>\r\n",
        "<li>code</li>\r\n",
        "<li>sleep</li>\r\n",
        "</ol>\r\n",
        "\r\n",
        "\r\n",
        "<ol type=\"A\">\r\n",
        "<li>eat</li>\r\n",
        "<li>code</li>\r\n",
        "<li>sleep</li>\r\n",
        "</ol>\r\n",
        "\r\n",
        "<ol type=\"I\">\r\n",
        "<li>eat</li>\r\n",
        "<li>code</li>\r\n",
        "<li>sleep</li>\r\n",
        "</ol>"
      ]
    },
    {
      "cell_type": "markdown",
      "metadata": {
        "id": "CE4oZT3mhm9V"
      },
      "source": [
        "<ul>\r\n",
        "<li>eat</li>\r\n",
        "<li>code</li>\r\n",
        "<li>sleep</li>\r\n",
        "</ul>\r\n",
        "\r\n",
        "\r\n",
        "<ul type=\"disc\">\r\n",
        "<li>eat</li>\r\n",
        "<li>code</li>\r\n",
        "<li>sleep</li>\r\n",
        "</ul>\r\n",
        "\r\n",
        "<ul type=\"square\">\r\n",
        "<li>eat</li>\r\n",
        "<li>code</li>\r\n",
        "<li>sleep</li>\r\n",
        "</ul>\r\n",
        "\r\n",
        "<ul type=\"circle\">\r\n",
        "<li>eat</li>\r\n",
        "<li>code</li>\r\n",
        "<li>sleep</li>\r\n",
        "</ul>\r\n",
        "\r\n",
        "<ul type=\"none\">\r\n",
        "<li>eat</li>\r\n",
        "<li>code</li>\r\n",
        "<li>sleep</li>\r\n",
        "</ul>\r\n"
      ]
    },
    {
      "cell_type": "markdown",
      "metadata": {
        "id": "pSTuhAs5iQun"
      },
      "source": [
        "<dl>\r\n",
        "<dt>Food</dt>\r\n",
        "<dd>Mention the name of the food you eat</dd>\r\n",
        "<dt>Sleep</dt>\r\n",
        "<dd>Mention the place where you sleep</dd>\r\n",
        "</dl>"
      ]
    }
  ]
}