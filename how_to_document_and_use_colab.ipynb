{
  "nbformat": 4,
  "nbformat_minor": 0,
  "metadata": {
    "colab": {
      "name": "how_to_document_and_use_colab.ipynb",
      "provenance": [],
      "authorship_tag": "ABX9TyN01RkZfbT4+czPTvkDbS/+",
      "include_colab_link": true
    },
    "kernelspec": {
      "name": "python3",
      "display_name": "Python 3"
    }
  },
  "cells": [
    {
      "cell_type": "markdown",
      "metadata": {
        "id": "view-in-github",
        "colab_type": "text"
      },
      "source": [
        "<a href=\"https://colab.research.google.com/github/pradosh2008/pradosh/blob/main/how_to_document_and_use_colab.ipynb\" target=\"_parent\"><img src=\"https://colab.research.google.com/assets/colab-badge.svg\" alt=\"Open In Colab\"/></a>"
      ]
    },
    {
      "cell_type": "markdown",
      "metadata": {
        "id": "uDRKjWp1cV0K"
      },
      "source": [
        "####A document on markup language to document your colab notebook and how to use colab using shortcut\r\n",
        "\r\n",
        "####The complete blog you will find on my medium publication\r\n",
        "![alt text](https://cdn-images-1.medium.com/fit/c/250/250/1*brEBtUc5feI5QcGC9I9Npw.png) \r\n",
        "\r\n",
        "##This particular notebook you can run directly on colab\r\n",
        "![alt text](https://miro.medium.com/max/1400/1*7oukapIBInsovpHkQB3QZg.jpeg)"
      ]
    },
    {
      "cell_type": "markdown",
      "metadata": {
        "id": "7lGoPBv70zCK"
      },
      "source": [
        "# **Introduction**\r\n",
        "\r\n",
        "[Google Colab](https://colab.research.google.com/notebooks/intro.ipynb) is an amazing tool that lets us build and execute an outstanding data science model and provides us with an opportunity to document our journey. As Google Colab provides us **code cells** to type the code, it also provides us with text cells to add the text. In this tutorial, we will focus more on the **text cell** and see how we can master it by using some simple commands that I will discuss in this tutorial. If you love documenting (like me) then you will enjoy reading this tutorial. You can start exploring Google Colab from below given link. Believe me, it’s an amazing tool.\r\n",
        "\r\n",
        "**Get your hands on [Google Colab](https://colab.research.google.com/)**"
      ]
    },
    {
      "cell_type": "markdown",
      "metadata": {
        "id": "TMhA5jY91E-i"
      },
      "source": [
        "# **Cheat-sheet**\r\n",
        "\r\n",
        "\r\n",
        "Below I will discuss some main handy tricks and shortcuts that can use and become a pro in documenting. If you know [Markdown](https://www.markdownguide.org/), [XML](https://www.w3schools.com/xml/), and [HTML](https://www.w3schools.com/html/) coding then this might be a cakewalk or if you are not familiar with either of those well today is the day to learn them all. Google Colab supports both **Markdown** and **HTML** documentation. You can any of these to document. All right, let’s get started.\r\n",
        "\r\n",
        "\r\n",
        "\r\n",
        "\r\n",
        "> **To experiment with all of these commands use the “Text cell”**\r\n",
        "\r\n",
        "\r\n",
        "![alt text](https://miro.medium.com/max/1400/1*6N4h9SMdf-NLWEIWAzeEJQ.png)"
      ]
    },
    {
      "cell_type": "markdown",
      "metadata": {
        "id": "56ePZYXriUzx"
      },
      "source": [
        "**To add a cell below  - use ctrl M B**\r\n",
        "<br></br>\r\n",
        "**To add a cell above  - use ctrl M A**\r\n",
        "<br></br>\r\n",
        "**To covert a cell from code to text - use ctrl M M**\r\n"
      ]
    },
    {
      "cell_type": "markdown",
      "metadata": {
        "id": "pzcbYVyEeWtG"
      },
      "source": [
        "**Markdown style**\r\n",
        "\r\n",
        "# This is a heading\r\n",
        "## This is a heading\r\n",
        "### This is a heading\r\n",
        "#### This is a heading"
      ]
    },
    {
      "cell_type": "markdown",
      "metadata": {
        "id": "8bF2WJmcfe1C"
      },
      "source": [
        "**HTML Side**\r\n",
        "\r\n",
        "<h1> This is a heading </h1>\r\n",
        "\r\n",
        "<h2> This is a heading </h2>\r\n"
      ]
    },
    {
      "cell_type": "markdown",
      "metadata": {
        "id": "EbXdFj3Of7l1"
      },
      "source": [
        "<b>Using HTML to bold and italic</b>\r\n",
        "\r\n",
        "<b> This is to make bold </b>\r\n",
        "\r\n",
        "<i> this is ittalic </i>\r\n",
        "\r\n",
        "This is *italic*\r\n"
      ]
    },
    {
      "cell_type": "markdown",
      "metadata": {
        "id": "02FBQ8m6gVW6"
      },
      "source": [
        "~This is strikethrough~\r\n",
        "<br>\r\n",
        "<s> this is strikethrough using html</s>\r\n",
        "<br>\r\n",
        "This is a ~strikethrough~"
      ]
    },
    {
      "cell_type": "markdown",
      "metadata": {
        "id": "QpgdkLcOguua"
      },
      "source": [
        "<ol>\r\n",
        "<li>eat</li>\r\n",
        "<li>code</li>\r\n",
        "<li>sleep</li>\r\n",
        "</ol>\r\n",
        "\r\n",
        "<ol type=\"1\">\r\n",
        "<li>eat</li>\r\n",
        "<li>code</li>\r\n",
        "<li>sleep</li>\r\n",
        "</ol>\r\n",
        "\r\n",
        "\r\n",
        "<ol type=\"A\">\r\n",
        "<li>eat</li>\r\n",
        "<li>code</li>\r\n",
        "<li>sleep</li>\r\n",
        "</ol>\r\n",
        "\r\n",
        "<ol type=\"I\">\r\n",
        "<li>eat</li>\r\n",
        "<li>code</li>\r\n",
        "<li>sleep</li>\r\n",
        "</ol>"
      ]
    },
    {
      "cell_type": "markdown",
      "metadata": {
        "id": "CE4oZT3mhm9V"
      },
      "source": [
        "<ul>\r\n",
        "<li>eat</li>\r\n",
        "<li>code</li>\r\n",
        "<li>sleep</li>\r\n",
        "</ul>\r\n",
        "\r\n",
        "\r\n",
        "<ul type=\"disc\">\r\n",
        "<li>eat</li>\r\n",
        "<li>code</li>\r\n",
        "<li>sleep</li>\r\n",
        "</ul>\r\n",
        "\r\n",
        "<ul type=\"square\">\r\n",
        "<li>eat</li>\r\n",
        "<li>code</li>\r\n",
        "<li>sleep</li>\r\n",
        "</ul>\r\n",
        "\r\n",
        "<ul type=\"circle\">\r\n",
        "<li>eat</li>\r\n",
        "<li>code</li>\r\n",
        "<li>sleep</li>\r\n",
        "</ul>\r\n",
        "\r\n",
        "<ul type=\"none\">\r\n",
        "<li>eat</li>\r\n",
        "<li>code</li>\r\n",
        "<li>sleep</li>\r\n",
        "</ul>\r\n"
      ]
    },
    {
      "cell_type": "markdown",
      "metadata": {
        "id": "pSTuhAs5iQun"
      },
      "source": [
        "<dl>\r\n",
        "<dt>Food</dt>\r\n",
        "<dd>Mention the name of the food you eat</dd>\r\n",
        "<dt>Sleep</dt>\r\n",
        "<dd>Mention the place where you sleep</dd>\r\n",
        "</dl>"
      ]
    },
    {
      "cell_type": "markdown",
      "metadata": {
        "id": "DuGSlVxbAqtx"
      },
      "source": [
        "## **Nested list**\r\n",
        "\r\n",
        "Nested lists are basically lists within lists.\r\n",
        "\r\n",
        "---\r\n",
        "<ul type=\"none\">\r\n",
        "  <li>Eat</li>\r\n",
        "    <ul>\r\n",
        "      <li>pancakes</li>\r\n",
        "      <li>mixture</li>\r\n",
        "      <li>biscuit</li>\r\n",
        "    </ul>\r\n",
        "  <li>Code</li>\r\n",
        "    <ul>\r\n",
        "      <li>python</li>\r\n",
        "      <li>scala</li>\r\n",
        "    </ul>\r\n",
        "</ul>"
      ]
    },
    {
      "cell_type": "markdown",
      "metadata": {
        "id": "KxEYlAGICSuP"
      },
      "source": [
        "<img src=\"https://previews.123rf.com/images/jovanmandic/jovanmandic1908/jovanmandic190800268/128614506-young-people-having-fun-on-summer-vacation-happy-friends-drinking-tropical-cocktails-on-the-beach-.jpg\" width=800px height=300px>\r\n",
        "\r\n",
        "\r\n",
        "<figure>\r\n",
        "<img src=\"https://cdn.tinybuddha.com/wp-content/uploads/2015/10/Having-Fun.png\" alt=\"Truuli\" style=\"width:100%\">\r\n",
        "<figcaption align=\"center\"> Fig 1 having fun</figcaption>\r\n",
        "</figure>"
      ]
    },
    {
      "cell_type": "markdown",
      "metadata": {
        "id": "1NpQX0a9D6DP"
      },
      "source": [
        "## **write code in python in text**\r\n",
        "`print(python is the best programming language)`\r\n",
        "\r\n",
        "\r\n",
        "```python\r\n",
        "a=1\r\n",
        "b=2\r\n",
        "print(a)\r\n",
        "print(b)\r\n",
        "```"
      ]
    },
    {
      "cell_type": "markdown",
      "metadata": {
        "id": "ePdMlcUPFg_o"
      },
      "source": [
        "## **how to Indent**\r\n",
        "\r\n",
        "> This is how you can do indent\r\n",
        "<br>\r\n",
        "> Just use this '>'\r\n",
        "\r\n",
        "\r\n",
        "<p align=\"justify\"> Hi, I am a paragrapgh . I am good mdkadkas askdadk askdadajslj sakdjsalkdjsaljdasldjla daskdjakd dakdjadlka asjdakdalkdal\r\n",
        "adjadakd\r\n",
        "adjadah kkkl sjsjs </p>"
      ]
    },
    {
      "cell_type": "markdown",
      "metadata": {
        "id": "RCfzipzIHf6Z"
      },
      "source": [
        "## **To write equation write like this**\r\n",
        "\r\n",
        "$\\alpha$\r\n",
        "$\\beta$\r\n"
      ]
    }
  ]
}